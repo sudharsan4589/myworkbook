{
 "cells": [
  {
   "cell_type": "code",
   "execution_count": 2,
   "id": "1d33b434",
   "metadata": {},
   "outputs": [
    {
     "data": {
      "text/plain": [
       "['a', 'b', 'c', 'd']"
      ]
     },
     "execution_count": 2,
     "metadata": {},
     "output_type": "execute_result"
    }
   ],
   "source": [
    "\"a,b,c,d\" .split(\",\")"
   ]
  },
  {
   "cell_type": "code",
   "execution_count": 6,
   "id": "c006456c",
   "metadata": {},
   "outputs": [
    {
     "name": "stdout",
     "output_type": "stream",
     "text": [
      "If at 80% capacity the factory manufactures 1000.0 units, then at 100 capacity the factory will approximately manufacture 1250.0 units of product.\n"
     ]
    }
   ],
   "source": [
    "capacity = 80\n",
    "total_units_produced_at_given_capacity = 1000.0\n",
    "total_capacity = 100\n",
    "output_template = \"If at {}% capacity the factory manufactures {} units, then at {} capacity the factory will approximately manufacture {} units of product.\"\n",
    "\n",
    "units_manufactured_at_full_capacity = (total_capacity/capacity)*total_units_produced_at_given_capacity\n",
    "output = output_template.format(capacity, total_units_produced_at_given_capacity, total_capacity, units_manufactured_at_full_capacity)\n",
    "print(output)"
   ]
  },
  {
   "cell_type": "code",
   "execution_count": 7,
   "id": "73ef96d2",
   "metadata": {},
   "outputs": [
    {
     "data": {
      "text/plain": [
       "'If at 80% capacity the factory manufactures 1000.0, then at 100% capacity the factory will approximately manufacture 1250.0 units of product.'"
      ]
     },
     "execution_count": 7,
     "metadata": {},
     "output_type": "execute_result"
    }
   ],
   "source": [
    "\"If at \"  +str(capacity)+ \"% capacity the factory manufactures \" +str(total_units_produced_at_given_capacity)+ \", then at \" +str(total_capacity)+ \"% capacity the factory will approximately manufacture \" +str(units_manufactured_at_full_capacity)+ \" units of product.\""
   ]
  },
  {
   "cell_type": "code",
   "execution_count": 15,
   "id": "6881558e",
   "metadata": {},
   "outputs": [
    {
     "data": {
      "text/plain": [
       "['mazda', 'lincoln', 'genesis', 'hyundai group', 'lucid']"
      ]
     },
     "execution_count": 15,
     "metadata": {},
     "output_type": "execute_result"
    }
   ],
   "source": [
    "clientele = ['mazda', 'lincoln', 'genesis', 'hyundai group', 'lucid']"
   ]
  },
  {
   "cell_type": "code",
   "execution_count": 56,
   "id": "ad21bac3",
   "metadata": {},
   "outputs": [
    {
     "data": {
      "text/plain": [
       "['Mazda CX90',\n",
       " 'Navigator',\n",
       " 'Genesis GV70',\n",
       " 'Elantra N',\n",
       " 'Lucid Air',\n",
       " 'KIA Sorento']"
      ]
     },
     "execution_count": 56,
     "metadata": {},
     "output_type": "execute_result"
    }
   ],
   "source": [
    "top_targets =['Mazda 6','Navigator','Genesis GV70','Elantra N','Lucid Air']\n",
    "top_targets.append('KIA Sorento')\n",
    "top_targets.insert(0, 'Mazda CX90')\n",
    "top_targets.pop(1)\n",
    "top_targets"
   ]
  },
  {
   "cell_type": "code",
   "execution_count": 59,
   "id": "f4fb7a4f",
   "metadata": {},
   "outputs": [
    {
     "data": {
      "text/plain": [
       "['Mazda CX90',\n",
       " 'Navigator',\n",
       " 'Genesis GV70',\n",
       " 'Elantra N',\n",
       " 'Lucid Air',\n",
       " 'KIA Sorento',\n",
       " 'mazda 3 fastback',\n",
       " 'genesis g80',\n",
       " 'hyundai kona']"
      ]
     },
     "execution_count": 59,
     "metadata": {},
     "output_type": "execute_result"
    }
   ],
   "source": [
    "new_top_targets = top_targets + [\"mazda 3 fastback\", \"genesis g80\", \"hyundai kona\"]\n",
    "new_top_targets"
   ]
  },
  {
   "cell_type": "code",
   "execution_count": null,
   "id": "12bfeefc",
   "metadata": {},
   "outputs": [],
   "source": []
  }
 ],
 "metadata": {
  "kernelspec": {
   "display_name": "Python 3 (ipykernel)",
   "language": "python",
   "name": "python3"
  },
  "language_info": {
   "codemirror_mode": {
    "name": "ipython",
    "version": 3
   },
   "file_extension": ".py",
   "mimetype": "text/x-python",
   "name": "python",
   "nbconvert_exporter": "python",
   "pygments_lexer": "ipython3",
   "version": "3.9.7"
  }
 },
 "nbformat": 4,
 "nbformat_minor": 5
}
